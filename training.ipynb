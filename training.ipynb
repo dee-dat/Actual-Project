{
 "cells": [
  {
   "cell_type": "code",
   "execution_count": 1,
   "metadata": {},
   "outputs": [
    {
     "name": "stdout",
     "output_type": "stream",
     "text": [
      "Requirement already satisfied: sklearn in /home/altgate/anaconda3/lib/python3.9/site-packages (0.0)\n",
      "Requirement already satisfied: scikit-learn in /home/altgate/anaconda3/lib/python3.9/site-packages (from sklearn) (1.0.2)\n",
      "Requirement already satisfied: threadpoolctl>=2.0.0 in /home/altgate/anaconda3/lib/python3.9/site-packages (from scikit-learn->sklearn) (2.2.0)\n",
      "Requirement already satisfied: joblib>=0.11 in /home/altgate/anaconda3/lib/python3.9/site-packages (from scikit-learn->sklearn) (1.1.0)\n",
      "Requirement already satisfied: scipy>=1.1.0 in /home/altgate/anaconda3/lib/python3.9/site-packages (from scikit-learn->sklearn) (1.7.3)\n",
      "Requirement already satisfied: numpy>=1.14.6 in /home/altgate/anaconda3/lib/python3.9/site-packages (from scikit-learn->sklearn) (1.22.0)\n",
      "Note: you may need to restart the kernel to use updated packages.\n"
     ]
    }
   ],
   "source": [
    "pip install sklearn"
   ]
  },
  {
   "cell_type": "code",
   "execution_count": 2,
   "metadata": {},
   "outputs": [
    {
     "name": "stdout",
     "output_type": "stream",
     "text": [
      "Collecting svm\n",
      "  Downloading svm-0.1.0.tar.gz (3.4 kB)\n",
      "Requirement already satisfied: requests in /home/altgate/anaconda3/lib/python3.9/site-packages (from svm) (2.27.1)\n",
      "Requirement already satisfied: colorama in /home/altgate/anaconda3/lib/python3.9/site-packages (from svm) (0.4.4)\n",
      "Collecting xmltodict\n",
      "  Downloading xmltodict-0.13.0-py2.py3-none-any.whl (10.0 kB)\n",
      "Requirement already satisfied: urllib3<1.27,>=1.21.1 in /home/altgate/anaconda3/lib/python3.9/site-packages (from requests->svm) (1.26.9)\n",
      "Requirement already satisfied: idna<4,>=2.5 in /home/altgate/anaconda3/lib/python3.9/site-packages (from requests->svm) (3.3)\n",
      "Requirement already satisfied: charset-normalizer~=2.0.0 in /home/altgate/anaconda3/lib/python3.9/site-packages (from requests->svm) (2.0.4)\n",
      "Requirement already satisfied: certifi>=2017.4.17 in /home/altgate/anaconda3/lib/python3.9/site-packages (from requests->svm) (2021.10.8)\n",
      "Building wheels for collected packages: svm\n",
      "  Building wheel for svm (setup.py) ... \u001b[?25ldone\n",
      "\u001b[?25h  Created wheel for svm: filename=svm-0.1.0-py3-none-any.whl size=3483 sha256=87811fb858749a18ae42804a84aebb97b21aff6c785c254ba226368b66020409\n",
      "  Stored in directory: /home/altgate/.cache/pip/wheels/38/1e/67/e4fe09dd9a91d94fb9f7cadee4199cfd8f5616a66359c7e733\n",
      "Successfully built svm\n",
      "Installing collected packages: xmltodict, svm\n",
      "Successfully installed svm-0.1.0 xmltodict-0.13.0\n",
      "Note: you may need to restart the kernel to use updated packages.\n"
     ]
    }
   ],
   "source": [
    "pip install svm"
   ]
  },
  {
   "cell_type": "code",
   "execution_count": 3,
   "metadata": {},
   "outputs": [
    {
     "name": "stdout",
     "output_type": "stream",
     "text": [
      "Loading face embeddings...\n",
      "Encoding labels...\n",
      "Training model...\n"
     ]
    }
   ],
   "source": [
    "from sklearn.preprocessing import LabelEncoder\n",
    "from sklearn.svm import SVC\n",
    "import pickle\n",
    "\n",
    "#initilizing of embedding & recognizer\n",
    "embeddingFile = \"output/embeddings.pickle\"\n",
    "#New & Empty at initial\n",
    "recognizerFile = \"output/recognizer.pickle\"\n",
    "labelEncFile = \"output/le.pickle\"\n",
    "\n",
    "print(\"Loading face embeddings...\")\n",
    "data = pickle.loads(open(embeddingFile, \"rb\").read())\n",
    "\n",
    "print(\"Encoding labels...\")\n",
    "labelEnc = LabelEncoder()\n",
    "labels = labelEnc.fit_transform(data[\"names\"])\n",
    "\n",
    "\n",
    "print(\"Training model...\")\n",
    "recognizer = SVC(C=1.0, kernel=\"linear\", probability=True)\n",
    "recognizer.fit(data[\"embeddings\"], labels)\n",
    "\n",
    "f = open(recognizerFile, \"wb\")\n",
    "f.write(pickle.dumps(recognizer))\n",
    "f.close()\n",
    "\n",
    "f = open(labelEncFile, \"wb\")\n",
    "f.write(pickle.dumps(labelEnc))\n",
    "f.close()\n"
   ]
  },
  {
   "cell_type": "code",
   "execution_count": 7,
   "metadata": {},
   "outputs": [
    {
     "data": {
      "text/plain": [
       "dict_keys(['embeddings', 'names'])"
      ]
     },
     "execution_count": 7,
     "metadata": {},
     "output_type": "execute_result"
    }
   ],
   "source": [
    "data.keys()"
   ]
  },
  {
   "cell_type": "code",
   "execution_count": 4,
   "metadata": {},
   "outputs": [
    {
     "name": "stdout",
     "output_type": "stream",
     "text": [
      "Hello\n"
     ]
    }
   ],
   "source": [
    "print('Hello')"
   ]
  },
  {
   "cell_type": "code",
   "execution_count": 11,
   "metadata": {},
   "outputs": [],
   "source": [
    "import numpy as np"
   ]
  },
  {
   "cell_type": "code",
   "execution_count": 13,
   "metadata": {},
   "outputs": [
    {
     "data": {
      "text/plain": [
       "(97, 128)"
      ]
     },
     "execution_count": 13,
     "metadata": {},
     "output_type": "execute_result"
    }
   ],
   "source": [
    "np.array(data['embeddings']).shape"
   ]
  },
  {
   "cell_type": "code",
   "execution_count": 21,
   "metadata": {},
   "outputs": [
    {
     "data": {
      "text/plain": [
       "array(['Abang Victor', 'Joseph james'], dtype='<U12')"
      ]
     },
     "execution_count": 21,
     "metadata": {},
     "output_type": "execute_result"
    }
   ],
   "source": [
    "np.unique(data['names']) "
   ]
  },
  {
   "cell_type": "code",
   "execution_count": 23,
   "metadata": {},
   "outputs": [
    {
     "data": {
      "text/plain": [
       "array([0, 0, 0, 0, 0, 0, 0, 0, 0, 0, 0, 0, 0, 0, 0, 0, 0, 0, 0, 0, 0, 0,\n",
       "       0, 0, 0, 0, 0, 0, 0, 0, 0, 0, 0, 0, 0, 0, 0, 0, 0, 0, 0, 0, 0, 0,\n",
       "       0, 0, 0, 0, 0, 1, 1, 1, 1, 1, 1, 1, 1, 1, 1, 1, 1, 1, 1, 1, 1, 1,\n",
       "       1, 1, 1, 1, 1, 1, 1, 1, 1, 1, 1, 1, 1, 1, 1, 1, 1, 1, 1, 1, 1, 1,\n",
       "       1, 1, 1, 1, 1, 1, 1, 1, 1], dtype=int64)"
      ]
     },
     "execution_count": 23,
     "metadata": {},
     "output_type": "execute_result"
    }
   ],
   "source": [
    "labels"
   ]
  },
  {
   "cell_type": "code",
   "execution_count": null,
   "metadata": {},
   "outputs": [],
   "source": []
  }
 ],
 "metadata": {
  "kernelspec": {
   "display_name": "Python 3",
   "language": "python",
   "name": "python3"
  },
  "language_info": {
   "codemirror_mode": {
    "name": "ipython",
    "version": 3
   },
   "file_extension": ".py",
   "mimetype": "text/x-python",
   "name": "python",
   "nbconvert_exporter": "python",
   "pygments_lexer": "ipython3",
   "version": "3.8.8"
  }
 },
 "nbformat": 4,
 "nbformat_minor": 4
}
